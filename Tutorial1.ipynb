{
  "cells": [
    {
      "cell_type": "code",
      "execution_count": null,
      "metadata": {
        "id": "FkVGTC4labyC"
      },
      "outputs": [],
      "source": [
        "import numpy as np\n",
        "import pandas as pd\n",
        "import matplotlib.pyplot as plt\n",
        "import math"
      ]
    },
    {
      "cell_type": "markdown",
      "metadata": {
        "id": "_2HZqpqbabyH"
      },
      "source": [
        "#Task 1: Conditional Probabilities\n",
        "You know the University of Bremen has 18,335 students, of which 6,571 are in natural sciences and engineering (see https://www.uni-bremen.de/en/university/profile/facts-figures ). Three-quarters of your friends in the natural sciences like mate (a beverage) from your personal experience.\n",
        "You are curious if you can determine how likely someone studies in this field, given they like mate. Therefore, you conduct a quick experiment in the mensa and ask at random tables the field and how much they like mate.\n",
        "\n",
        "The following matrix describes your data. The first column describes if the person studies natural sciences (or not) and the second how much they like mate (scale from -2 to 2, higher=likes better, neutral is not allowed)."
      ]
    },
    {
      "cell_type": "code",
      "execution_count": null,
      "metadata": {
        "tags": [],
        "id": "sv7scHyLabyJ",
        "outputId": "4b986f5f-aa97-4f08-91af-7a18288aa65c",
        "colab": {
          "base_uri": "https://localhost:8080/"
        }
      },
      "outputs": [
        {
          "output_type": "execute_result",
          "data": {
            "text/plain": [
              "array([[ 1,  1],\n",
              "       [ 0, -1],\n",
              "       [ 0,  1],\n",
              "       [ 0, -1],\n",
              "       [ 1,  1],\n",
              "       [ 0,  1],\n",
              "       [ 0, -2],\n",
              "       [ 0, -1]])"
            ]
          },
          "metadata": {},
          "execution_count": 2
        }
      ],
      "source": [
        "questionaire_mate = np.array([[True, 1], [False, -1], [False, 1], [False, -1], [True, 1], [False, 1], [False, -2], [False, -1]])\n",
        "questionaire_mate"
      ]
    },
    {
      "cell_type": "markdown",
      "metadata": {
        "id": "-H8evxMtabyL"
      },
      "source": [
        "Given a person likes mate, how likely are they to study in the natural sciences?"
      ]
    },
    {
      "cell_type": "markdown",
      "metadata": {
        "id": "NcVZUfKBabyM"
      },
      "source": [
        "$$\n",
        "\\begin{aligned}\n",
        "P(A|B) &= \\frac{ P(A) \\cdot P(B|A)}{P(B)} \\\\ \\\\\n",
        "\n",
        "P(A|B) &= \\frac{ P(A) \\cdot P(B|A)}{P(A) \\cdot P(B|A) + P(\\neg A) \\cdot P(B|\\neg A)}\n",
        "\\end{aligned}\n",
        "$$\n"
      ]
    },
    {
      "cell_type": "code",
      "execution_count": null,
      "metadata": {
        "id": "lZA-A5mIabyM",
        "outputId": "b18349f9-74c4-400b-bb64-6868c11079cf",
        "colab": {
          "base_uri": "https://localhost:8080/"
        }
      },
      "outputs": [
        {
          "output_type": "execute_result",
          "data": {
            "text/plain": [
              "0.4"
            ]
          },
          "metadata": {},
          "execution_count": 3
        }
      ],
      "source": [
        "######## SOLUTION 1 (not that good) ##########\n",
        "\n",
        "# This solution uses bayes theorem to solve the problem.\n",
        "# Only the survey is taken into account, and no other information,\n",
        "# which means it is not very accurate.\n",
        "\n",
        "survey_size = len(questionaire_mate)\n",
        "\n",
        "# Data where the students are STEM students\n",
        "stem_in_survey = np.where(questionaire_mate[:,0] == 1)\n",
        "# Data where the students are non-STEM students\n",
        "others_in_survey = np.where(questionaire_mate[:,0] == 0)\n",
        "\n",
        "stem_count = np.size(stem_in_survey)\n",
        "others_count = np.size(others_in_survey)\n",
        "\n",
        "# Ratio of stem students in survey -> P(A)\n",
        "stem_ratio = stem_count / survey_size\n",
        "# Ratio of other students in survey -> P(not A)\n",
        "others_ratio = others_count / survey_size\n",
        "\n",
        "def normalized(x, min=-2, max=2):\n",
        "    return (x-min)/(max-min)\n",
        "\n",
        "# Normalised averge score for STEM students -> P(B | A)\n",
        "avg_stem_mate = normalized(sum(questionaire_mate[stem_in_survey])[1] / stem_count)\n",
        "# Normmalised averge score for other students -> P(B | not A)\n",
        "avg_others_mate = normalized(sum(questionaire_mate[others_in_survey])[1] / others_count)\n",
        "\n",
        "# P(A|B) = ( P(A)*P(B|A) ) / ( P(A)*P(B|A) + P(not A)*P(B|not A) )\n",
        "result = (stem_ratio * avg_stem_mate) / (stem_ratio * avg_stem_mate + others_ratio * avg_others_mate)\n",
        "result\n"
      ]
    },
    {
      "cell_type": "code",
      "execution_count": null,
      "metadata": {
        "id": "BnBj6FzRabyN",
        "outputId": "22627007-c559-486b-d244-1af8be3787b8",
        "colab": {
          "base_uri": "https://localhost:8080/"
        }
      },
      "outputs": [
        {
          "output_type": "execute_result",
          "data": {
            "text/plain": [
              "0.5276640167028025"
            ]
          },
          "metadata": {},
          "execution_count": 4
        }
      ],
      "source": [
        "######## SOLUTION 2 (maybe better) ##########\n",
        "\n",
        "# This solution also uses bayes theorem.\n",
        "# We use the given data for STEM students,\n",
        "# and the survey data for non-STEM students.\n",
        "\n",
        "student_count = 18335\n",
        "stem_students = 6571\n",
        "others = student_count - stem_students\n",
        "\n",
        "# Ratio of STEM students in uni Bremen -> P(A)\n",
        "stem_ratio = stem_students / student_count\n",
        "# Ratio of non-STEM students in uni Bremen -> P(not A)\n",
        "others_ratio = others / student_count\n",
        "\n",
        "# Data where the students are other students\n",
        "others_in_survey = np.where(questionaire_mate[:,0] == 0)\n",
        "others_count = np.size(others_in_survey)\n",
        "\n",
        "def normalized(x, min=-2, max=2):\n",
        "    return (x-min)/(max-min)\n",
        "\n",
        "# The percentage of STEM students that like mate -> P(B | A)\n",
        "avg_stem_mate = 0.75\n",
        "# Normmalised averge score for other students -> P(B | not A)\n",
        "avg_others_mate = normalized(sum(questionaire_mate[others_in_survey])[1] / others_count)\n",
        "\n",
        "#P(A|B) = ( P(A)*P(B|A) ) / ( P(A)*P(B|A) + P(not A)*P(B|not A) )\n",
        "result = (stem_ratio * avg_stem_mate) / (stem_ratio * avg_stem_mate + others_ratio * avg_others_mate)\n",
        "result"
      ]
    },
    {
      "cell_type": "markdown",
      "metadata": {
        "id": "Sn7Q7DZHabyN"
      },
      "source": [
        "#Task 2: Maximum Likelihood Estimation\n",
        "A Gaussian normal distribution can be fitted by applying the Maximum Likelihood Estimation to determine the best parameters for explaining a given dataset. This is equivalent to calculating the mean (and variance) on the dataset directly; why?\n",
        "\n",
        "The Gaussian normal distribution is given as follows:\n",
        "\n",
        "$$\n",
        "N(\\mu,\\sigma) = \\frac{1}{\\sigma \\sqrt{2\\pi}}\n",
        "e^{-\\frac{1}{2}(\\frac{x-\\mu}{\\sigma})^2}\n",
        "$$\n",
        "\n",
        "Hint: The partial derivative is easier to compute when using a log likelihood."
      ]
    },
    {
      "cell_type": "markdown",
      "metadata": {
        "id": "i-kyjQnkabyO"
      },
      "source": [
        "#### Solution:\n",
        "\n",
        "The parameters of the Gaussian normal distribution:\n",
        "\n",
        "- $\\mu$ = determines the location of the normal distribution's **mean**\n",
        "- $\\sigma$ = determines the normal distribution's curve width **(standard deviation)**\n",
        "\n",
        "Given a data point $x$, use the likelihood of normal distribution to determine the optimal values for $\\mu$ and $\\sigma$\n",
        "\n",
        "$$\n",
        "L(\\mu,\\sigma | x) = \\frac{1}{\\sigma \\sqrt{2\\pi}}\n",
        "e^{-\\frac{1}{2}(\\frac{x-\\mu}{\\sigma})^2}\n",
        "$$\n"
      ]
    },
    {
      "cell_type": "code",
      "execution_count": null,
      "metadata": {
        "id": "bqbMfX0mabyO"
      },
      "outputs": [],
      "source": [
        "def gaussian_likelihood(mu, sigma, x):\n",
        "    return 1 / (sigma * math.sqrt(2 * math.pi)) * (math.e ** (-1/2 * ((x - mu) / sigma)**2))"
      ]
    },
    {
      "cell_type": "code",
      "execution_count": null,
      "metadata": {
        "colab": {
          "base_uri": "https://localhost:8080/",
          "height": 466
        },
        "id": "uLeewM2YabyP",
        "outputId": "2b03f7c3-d0ae-4911-d4af-733b4ab2b57a"
      },
      "outputs": [
        {
          "output_type": "display_data",
          "data": {
            "text/plain": [
              "<Figure size 640x480 with 1 Axes>"
            ],
            "image/png": "[encoded data removed]"
          },
          "metadata": {}
        },
        {
          "output_type": "stream",
          "name": "stdout",
          "text": [
            "gaussian likelihood: 0.02419707245191434\n"
          ]
        }
      ],
      "source": [
        "import numpy as np\n",
        "import matplotlib.pyplot as plt\n",
        "import math\n",
        "\n",
        "x = np.linspace(-40, 40, 100)\n",
        "\n",
        "# pick a data point x_i, adjust mu and sigma accordingly\n",
        "# you can mess around with these values and see what happens\n",
        "\n",
        "mu = 0\n",
        "sigma = 10\n",
        "x_i = 10\n",
        "\n",
        "plt.xlabel(\"x values\")\n",
        "plt.ylabel(\"likelihood\")\n",
        "\n",
        "plt.plot(x, gaussian_likelihood(mu, sigma, x), 'r')\n",
        "plt.plot(x_i, 0, 'bo') # datapoint\n",
        "plt.plot(x_i, gaussian_likelihood(mu, sigma, x_i), 'bx') # gaussian likelihood\n",
        "plt.show()\n",
        "\n",
        "print(f\"gaussian likelihood: {gaussian_likelihood(mu, sigma, x_i)}\")"
      ]
    },
    {
      "cell_type": "code",
      "execution_count": null,
      "metadata": {
        "id": "AZC5E2r4abyP",
        "outputId": "dd738c60-496b-440e-e22f-b9ac02fe3190",
        "colab": {
          "base_uri": "https://localhost:8080/",
          "height": 449
        }
      },
      "outputs": [
        {
          "output_type": "display_data",
          "data": {
            "text/plain": [
              "<Figure size 640x480 with 1 Axes>"
            ],
            "image/png": "[encoded data removed]"
          },
          "metadata": {}
        }
      ],
      "source": [
        "# plug in different values of mu, to see which one gives the maxlikelihood\n",
        "\n",
        "mu = np.linspace(-40, 40, 100)\n",
        "sigma = 10\n",
        "x_i = 10\n",
        "\n",
        "plt.xlabel(\"mu value\")\n",
        "plt.ylabel(\"likelihood\")\n",
        "\n",
        "plt.plot(mu, gaussian_likelihood(mu, sigma, x_i), 'r')\n",
        "plt.show()\n"
      ]
    },
    {
      "cell_type": "markdown",
      "metadata": {
        "id": "9EiiQAsbabyQ"
      },
      "source": [
        "- to find best mu, treat sigma as a constant, find where slope is 0\n",
        "- to find best sigma, treat mu as a constant, find where slope is 0"
      ]
    },
    {
      "cell_type": "markdown",
      "metadata": {
        "id": "FIgQTUjfabyQ"
      },
      "source": [
        "With multiple datapoints:\n",
        "\n",
        "The likelihood of the distribution, given $n$ datapoints, is the product of the likelihood functions for all $n$ datapoints.\n",
        "\n",
        "\n",
        "$$\n",
        "L(\\mu,\\sigma | x_1, ..., x_n) = \\frac{1}{\\sigma \\sqrt{2\\pi}}\n",
        "e^{-\\frac{1}{2}(\\frac{x_1-\\mu}{\\sigma})^2} \\times ... \\times \\frac{1}{\\sigma \\sqrt{2\\pi}}\n",
        "e^{-\\frac{1}{2}(\\frac{x_n-\\mu}{\\sigma})^2}\n",
        "$$"
      ]
    },
    {
      "cell_type": "markdown",
      "metadata": {
        "id": "duHeeGKbabyQ"
      },
      "source": [
        "Maximum likelihood estimates for $\\mu$ and $\\sigma$:\n",
        "\n",
        "We need to take a derivative of the function $L(\\mu,\\sigma | x_1, ..., x_n)$\n",
        "- with respect to $\\mu$ (treat $\\sigma$ as a constant)\n",
        "- with respect to $\\sigma$ (treat $\\mu$ as a constant).\n",
        "\n",
        "Find the optimal value where the derivative = 0\n",
        "\n",
        "If we take the log of the likelihood function, taking the derivative will be easier (the likelihood function and the log of the likelihood function both peak at the same values for $\\mu$ and $\\sigma$, so the derivative does not change)."
      ]
    },
    {
      "cell_type": "markdown",
      "metadata": {
        "id": "0gwm78HRabyR"
      },
      "source": [
        "Take the log of the likelihood function:\n",
        "\n",
        "\n",
        "$$\n",
        "\\begin{aligned}\n",
        "ln[L(\\mu,\\sigma | x_1, ..., x_n)] &= ln(\\frac{1}{\\sigma \\sqrt{2\\pi}}\n",
        "e^{-\\frac{1}{2}(\\frac{x_1-\\mu}{\\sigma})^2} \\times ... \\times \\frac{1}{\\sigma \\sqrt{2\\pi}}\n",
        "e^{-\\frac{1}{2}(\\frac{x_n-\\mu}{\\sigma})^2}) \\\\\n",
        "\n",
        "&= ln(\\frac{1}{\\sigma \\sqrt{2\\pi}}\n",
        "e^{-\\frac{1}{2}(\\frac{x_1-\\mu}{\\sigma})^2}) + ... + ln(\\times \\frac{1}{\\sigma \\sqrt{2\\pi}}\n",
        "e^{-\\frac{1}{2}(\\frac{x_n-\\mu}{\\sigma})^2}) \\\\\n",
        "\n",
        "&= -\\frac{1}{2} ln(2\\pi) - ln(\\sigma) - \\frac{(x_1 - \\mu)^2}{2\\sigma^2} - ... -\\frac{1}{2} ln(2\\pi) - ln(\\sigma) - \\frac{(x_n - \\mu)^2}{2\\sigma^2} \\\\\n",
        "\n",
        "&= -\\frac{n}{2} ln(2\\pi) - nln(\\sigma) - \\frac{(x_1 - \\mu)^2}{2\\sigma^2} - ... - \\frac{(x_n - \\mu)^2}{2\\sigma^2}\n",
        "\\end{aligned}\n",
        "$$\n",
        "\n"
      ]
    },
    {
      "cell_type": "markdown",
      "metadata": {
        "id": "jK4PLMKxabyR"
      },
      "source": [
        "Take the derivative of log(likelihood) with respect to $\\mu$:\n",
        "\n",
        "$$\n",
        "\\frac{\\partial}{\\partial \\mu} ln [ L(\\mu,\\sigma | x_1, ..., x_n) ] = \\frac{1}{\\sigma^2}[(x_1 + ... + x_n) - n \\mu]\n",
        "$$\n"
      ]
    },
    {
      "cell_type": "markdown",
      "metadata": {
        "id": "W1_72TMvabyR"
      },
      "source": [
        "Take the derivative of log(likelihood) with respect to $\\sigma$:\n",
        "\n",
        "$$\n",
        "\\frac{\\partial}{\\partial \\sigma} ln [ L(\\mu,\\sigma | x_1, ..., x_n) ] = - \\frac{n}{\\sigma} + \\frac{1}{\\sigma^3} [(x_1 - \\mu)^2 + ... + (x_n - \\mu)^2 ]\n",
        "$$"
      ]
    },
    {
      "cell_type": "markdown",
      "metadata": {
        "id": "zDGxF73wabyR"
      },
      "source": [
        "Find the maximum likelihood estimate for $\\mu$:\n",
        "\n",
        "- Set the derivative with respect to $\\mu$ to 0, and solve for $\\mu$\n",
        "\n",
        "$$\n",
        "\\begin{aligned}\n",
        "0 &= \\frac{1}{\\sigma^2}[(x_1 + ... + x_n) - n \\mu] \\\\\n",
        "0 &= (x_1 + ... + x_n) - n \\mu \\\\\n",
        "\\mu &= \\frac{(x_1 + ... + x_n)}{n}\n",
        "\\end{aligned}\n",
        "$$\n",
        "\n",
        "- The maximum likelihood estimate for $\\mu$ is the **mean** of the dataset.\n"
      ]
    },
    {
      "cell_type": "markdown",
      "metadata": {
        "id": "vVxWaVHAabyR"
      },
      "source": [
        "Find the maximum likelihood estimate for $\\sigma$:\n",
        "\n",
        "- Set the derivative with respect to $\\sigma$ to 0, and solve for $\\sigma$\n",
        "\n",
        "$$\n",
        "\\begin{aligned}\n",
        "0 &= - \\frac{n}{\\sigma} + \\frac{1}{\\sigma^3} [(x_1 - \\mu)^2 + ... + (x_n - \\mu)^2 ] \\\\\n",
        "\\sigma &= \\sqrt{\\frac{(x_1 - \\mu)^2 + ... + (x_n - \\mu)^2}{n}}\n",
        "\\end{aligned}\n",
        "$$\n",
        "\n",
        "- The maximum likelihood estimate for $\\sigma$ is the **standard deviation** of the dataset."
      ]
    },
    {
      "cell_type": "markdown",
      "metadata": {
        "tags": [],
        "id": "Q-rThN8_abyS"
      },
      "source": [
        "#Task 3: Kullback-Leibler Divergence"
      ]
    },
    {
      "cell_type": "markdown",
      "metadata": {
        "id": "Gl2Y2BZpabyS"
      },
      "source": [
        "$$D_{KL}(P|Q) = \\sum_x P(x)log(\\frac{P(x)}{Q(x)})$$"
      ]
    },
    {
      "cell_type": "markdown",
      "metadata": {
        "id": "FcnLT2kJabyS"
      },
      "source": [
        "a) Calculate the KL divergence for two discrete distributions $P$ and $Q$ over events $A,B,C$.\n",
        "Calculate $D_{KL}(P|Q)$ and $D_{KL}(Q|P)$ and compare!\n",
        "\n",
        "| Distribution | A | B | C |\n",
        "| --- | --- | --- | --- |\n",
        "| P | 0.5 | 0.3 | 0.2 |\n",
        "| Q | 0.4 | 0.2 | 0.4 |"
      ]
    },
    {
      "cell_type": "code",
      "execution_count": null,
      "metadata": {
        "id": "VbhfxdDdabyS",
        "outputId": "64f147fe-53d1-48c5-f4ca-68dd878196c9",
        "colab": {
          "base_uri": "https://localhost:8080/"
        }
      },
      "outputs": [
        {
          "output_type": "stream",
          "name": "stdout",
          "text": [
            "DKL(P|Q) = 0.0945818719775651\n",
            "DKL(Q|P) = 0.10690843007666134\n"
          ]
        }
      ],
      "source": [
        "p = [0.5,0.3,0.2]\n",
        "q = [0.4,0.2,0.4]\n",
        "# implement or calculate\n",
        "\n",
        "def kl_divergence(p, q):\n",
        "\treturn sum(p[i] * math.log(p[i]/q[i]) for i in range(len(p)))\n",
        "\n",
        "print(f\"DKL(P|Q) = {kl_divergence(p, q)}\")\n",
        "print(f\"DKL(Q|P) = {kl_divergence(q, p)}\")\n",
        "\n",
        "### The leading P(x) ###\n",
        "# We want to prioritize the popular x values in our distribution.\n",
        "# We downweight the changes of smaller x values, upweight the larger ones (probabilistic weighting)."
      ]
    },
    {
      "cell_type": "markdown",
      "metadata": {
        "id": "hTzD_TyoabyT"
      },
      "source": [
        "b) For this task, assume for simplicity that $P$ and $Q$ are discrete distributions over two events $A,B$.\n",
        "\n",
        "i) For a given $P$, what $Q_{min}$ minimizes $D_{KL}(P|Q)$? Justify your answer!\n",
        "\n",
        "ii) For a given P, show that there is no upper bound for $D_{KL}(P|Q)$."
      ]
    },
    {
      "cell_type": "code",
      "execution_count": null,
      "metadata": {
        "id": "7sBCZVJXabyU",
        "outputId": "24a5f5e3-4c3b-49dc-e3f2-fe9232fec6d2",
        "colab": {
          "base_uri": "https://localhost:8080/"
        }
      },
      "outputs": [
        {
          "output_type": "execute_result",
          "data": {
            "text/plain": [
              "0.0"
            ]
          },
          "metadata": {},
          "execution_count": 9
        }
      ],
      "source": [
        "# i)\n",
        "# For a given P, Q = P minimizes DKL(P|K)\n",
        "p=[0.3, 0.2]\n",
        "q=[0.3, 0.2]\n",
        "kl_divergence(p,q)"
      ]
    },
    {
      "cell_type": "code",
      "execution_count": null,
      "metadata": {
        "id": "MKBaibYaabyU",
        "outputId": "c41f3973-f6fb-47cf-e9ab-1191f8c281a4",
        "colab": {
          "base_uri": "https://localhost:8080/"
        }
      },
      "outputs": [
        {
          "output_type": "stream",
          "name": "stdout",
          "text": [
            "11.743183974269632\n"
          ]
        }
      ],
      "source": [
        "#ii)\n",
        "# as P(x)/Q(x) increases, log(P(x)/Q(x)) approaches infinity\n",
        "p=[0.3, 0.2]\n",
        "q=[0.000000000000000003, 0.2]\n",
        "print(kl_divergence(p,q))"
      ]
    },
    {
      "cell_type": "markdown",
      "metadata": {
        "id": "w3ZYgcvFabyV"
      },
      "source": [
        "# Task 4: Feature Compression"
      ]
    },
    {
      "cell_type": "markdown",
      "metadata": {
        "id": "OOHU8KSeabyW"
      },
      "source": [
        "Assume you want to perform classification with two classes, $A$ and $B$ in the feature space ${\\rm I\\!R}^{2n}$. We can assume that the two classes follow a normal distribution, with $\\mu_A = (\\mu_1, \\mu_2)$ and $\\mu_B = (\\mu_1, \\mu_3)$, with $\\mu_1, \\mu_2, \\mu_3 \\in {\\rm I\\!R}^n$. $\\Sigma$ is identical for both distributions, see below ($\\sigma \\in [0,1]$, $\\alpha \\approx 1$). You perform a Principal Component Analysis (PCA) for feature space transformation.\n",
        "\n",
        "$$\\sum =\n",
        "\\left(\n",
        "  \\begin{array}{ccc}\n",
        "  \\begin{array}{cc}\n",
        "\\sigma & \\alpha\\\\\n",
        "\\alpha & \\sigma\n",
        "\\end{array} & \\dots & 0  \\\\\n",
        "  \\vdots & \\ddots & \\vdots  \\\\\n",
        "  0 & \\dots & \\begin{array}{cc}\n",
        "\\sigma & \\alpha\\\\\n",
        "\\alpha & \\sigma\n",
        "\\end{array}\n",
        "\\end{array} \\right) \\in \\mathbb{R}^{2n \\times 2n} $$\n",
        "\n",
        "a) Without calculating the result, make a prediction about how the sorted sequence of Eigenvalues will look like! You do not need to give exact numbers, but sketch the graph of Eigenvalues by Eigenvector index. How many components do you anticipate to keep to retain most of the variance in the data?"
      ]
    },
    {
      "cell_type": "markdown",
      "metadata": {
        "id": "ny_PpuKCabyX"
      },
      "source": [
        "Hint: you may choose to implement and plot an example for this task.\n",
        "If so, np.random.multivariate_normal and sklearn.decomposition might come in handy."
      ]
    },
    {
      "cell_type": "code",
      "execution_count": null,
      "metadata": {
        "id": "XbbNHlrNabyZ",
        "colab": {
          "base_uri": "https://localhost:8080/",
          "height": 541
        },
        "outputId": "a11fe941-ef07-43e3-a8f6-16dbae67a376"
      },
      "outputs": [
        {
          "output_type": "stream",
          "name": "stderr",
          "text": [
            "<ipython-input-11-f579e4ce5074>:26: RuntimeWarning: covariance is not symmetric positive-semidefinite.\n",
            "  data_A = np.random.multivariate_normal(mu_A, Sigma, size=100)\n",
            "<ipython-input-11-f579e4ce5074>:27: RuntimeWarning: covariance is not symmetric positive-semidefinite.\n",
            "  data_B = np.random.multivariate_normal(mu_B, Sigma, size=100)\n"
          ]
        },
        {
          "output_type": "display_data",
          "data": {
            "text/plain": [
              "<Figure size 640x480 with 1 Axes>"
            ],
            "image/png": "[encoded data removed]"
          },
          "metadata": {}
        }
      ],
      "source": [
        "import numpy as np\n",
        "import matplotlib.pyplot as plt\n",
        "from sklearn.decomposition import PCA\n",
        "\n",
        "# Parameters\n",
        "n = 50  # Dimension for each part of the mean vectors\n",
        "sigma = 0.5\n",
        "alpha = 0.95  # Slight correlation between features\n",
        "\n",
        "# Mean vectors for classes A and B\n",
        "mu1 = np.zeros(n)\n",
        "mu2 = np.ones(n)\n",
        "mu3 = -np.ones(n)\n",
        "\n",
        "# Construct full mean vectors for A and B in R^(2n)\n",
        "mu_A = np.concatenate((mu1, mu2))\n",
        "mu_B = np.concatenate((mu1, mu3))\n",
        "\n",
        "# Construct covariance matrix Sigma in R^(2n x 2n)\n",
        "Sigma_block = np.full((n, n), alpha) + (sigma - alpha) * np.eye(n)\n",
        "Sigma = np.block([[Sigma_block, np.zeros((n, n))],\n",
        "                  [np.zeros((n, n)), Sigma_block]])\n",
        "\n",
        "# Generate data\n",
        "np.random.seed(0)\n",
        "data_A = np.random.multivariate_normal(mu_A, Sigma, size=100)\n",
        "data_B = np.random.multivariate_normal(mu_B, Sigma, size=100)\n",
        "data = np.vstack((data_A, data_B))\n",
        "\n",
        "# Perform PCA\n",
        "pca = PCA()\n",
        "pca.fit(data)\n",
        "eigenvalues = pca.explained_variance_\n",
        "\n",
        "# Plot the eigenvalues\n",
        "plt.plot(range(1, len(eigenvalues) + 1), eigenvalues, marker='o')\n",
        "plt.xlabel('Principal Component Index')\n",
        "plt.ylabel('Eigenvalue')\n",
        "plt.title('Eigenvalues of Principal Components')\n",
        "plt.show()"
      ]
    }
  ],
  "metadata": {
    "kernelspec": {
      "display_name": "AML_Tut",
      "language": "python",
      "name": "python3"
    },
    "language_info": {
      "codemirror_mode": {
        "name": "ipython",
        "version": 3
      },
      "file_extension": ".py",
      "mimetype": "text/x-python",
      "name": "python",
      "nbconvert_exporter": "python",
      "pygments_lexer": "ipython3",
      "version": "3.9.19"
    },
    "colab": {
      "provenance": []
    }
  },
  "nbformat": 4,
  "nbformat_minor": 0
}